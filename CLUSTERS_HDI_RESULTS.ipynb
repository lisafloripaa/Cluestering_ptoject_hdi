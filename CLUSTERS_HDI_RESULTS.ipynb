{
 "cells": [
  {
   "cell_type": "code",
   "execution_count": 1,
   "metadata": {},
   "outputs": [],
   "source": [
    "import pandas as pd\n",
    "import numpy as np\n",
    "import matplotlib.pyplot as plt\n",
    "%matplotlib inline "
   ]
  },
  {
   "cell_type": "code",
   "execution_count": 2,
   "metadata": {},
   "outputs": [],
   "source": [
    "df = pd.read_csv('cluster_results_hdi.csv')\n",
    "\n",
    "df_country = pd.read_excel('dados_hdi.xlsx')\n",
    "df_country = df_country[['Country']]"
   ]
  },
  {
   "cell_type": "code",
   "execution_count": 3,
   "metadata": {},
   "outputs": [],
   "source": [
    "df = pd.concat([df_country,df], axis=1)\n",
    "df.set_index('Country',inplace=True)"
   ]
  },
  {
   "cell_type": "code",
   "execution_count": 4,
   "metadata": {},
   "outputs": [
    {
     "data": {
      "text/html": [
       "<div>\n",
       "<style scoped>\n",
       "    .dataframe tbody tr th:only-of-type {\n",
       "        vertical-align: middle;\n",
       "    }\n",
       "\n",
       "    .dataframe tbody tr th {\n",
       "        vertical-align: top;\n",
       "    }\n",
       "\n",
       "    .dataframe thead th {\n",
       "        text-align: right;\n",
       "    }\n",
       "</style>\n",
       "<table border=\"1\" class=\"dataframe\">\n",
       "  <thead>\n",
       "    <tr style=\"text-align: right;\">\n",
       "      <th></th>\n",
       "      <th>Economy</th>\n",
       "      <th>Inequality</th>\n",
       "      <th>Gender</th>\n",
       "      <th>Population</th>\n",
       "      <th>Expenditure</th>\n",
       "      <th>Health</th>\n",
       "      <th>Environment</th>\n",
       "    </tr>\n",
       "    <tr>\n",
       "      <th>Country</th>\n",
       "      <th></th>\n",
       "      <th></th>\n",
       "      <th></th>\n",
       "      <th></th>\n",
       "      <th></th>\n",
       "      <th></th>\n",
       "      <th></th>\n",
       "    </tr>\n",
       "  </thead>\n",
       "  <tbody>\n",
       "    <tr>\n",
       "      <th>Norway</th>\n",
       "      <td>0</td>\n",
       "      <td>0</td>\n",
       "      <td>2</td>\n",
       "      <td>2</td>\n",
       "      <td>2</td>\n",
       "      <td>0</td>\n",
       "      <td>1</td>\n",
       "    </tr>\n",
       "    <tr>\n",
       "      <th>Ireland</th>\n",
       "      <td>0</td>\n",
       "      <td>0</td>\n",
       "      <td>2</td>\n",
       "      <td>3</td>\n",
       "      <td>0</td>\n",
       "      <td>0</td>\n",
       "      <td>1</td>\n",
       "    </tr>\n",
       "    <tr>\n",
       "      <th>Switzerland</th>\n",
       "      <td>0</td>\n",
       "      <td>0</td>\n",
       "      <td>2</td>\n",
       "      <td>2</td>\n",
       "      <td>3</td>\n",
       "      <td>2</td>\n",
       "      <td>1</td>\n",
       "    </tr>\n",
       "    <tr>\n",
       "      <th>Hong Kong, China (SAR)</th>\n",
       "      <td>0</td>\n",
       "      <td>0</td>\n",
       "      <td>0</td>\n",
       "      <td>2</td>\n",
       "      <td>1</td>\n",
       "      <td>0</td>\n",
       "      <td>1</td>\n",
       "    </tr>\n",
       "    <tr>\n",
       "      <th>Iceland</th>\n",
       "      <td>0</td>\n",
       "      <td>0</td>\n",
       "      <td>2</td>\n",
       "      <td>2</td>\n",
       "      <td>2</td>\n",
       "      <td>2</td>\n",
       "      <td>1</td>\n",
       "    </tr>\n",
       "  </tbody>\n",
       "</table>\n",
       "</div>"
      ],
      "text/plain": [
       "                        Economy  Inequality  Gender  Population  Expenditure  \\\n",
       "Country                                                                        \n",
       "Norway                        0           0       2           2            2   \n",
       "Ireland                       0           0       2           3            0   \n",
       "Switzerland                   0           0       2           2            3   \n",
       "Hong Kong, China (SAR)        0           0       0           2            1   \n",
       "Iceland                       0           0       2           2            2   \n",
       "\n",
       "                        Health  Environment  \n",
       "Country                                      \n",
       "Norway                       0            1  \n",
       "Ireland                      0            1  \n",
       "Switzerland                  2            1  \n",
       "Hong Kong, China (SAR)       0            1  \n",
       "Iceland                      2            1  "
      ]
     },
     "execution_count": 4,
     "metadata": {},
     "output_type": "execute_result"
    }
   ],
   "source": [
    "df.head()"
   ]
  },
  {
   "cell_type": "code",
   "execution_count": 5,
   "metadata": {},
   "outputs": [
    {
     "data": {
      "text/plain": [
       "Economy        2\n",
       "Inequality     2\n",
       "Gender         0\n",
       "Population     1\n",
       "Expenditure    2\n",
       "Health         0\n",
       "Environment    0\n",
       "Name: Brazil, dtype: int64"
      ]
     },
     "execution_count": 5,
     "metadata": {},
     "output_type": "execute_result"
    }
   ],
   "source": [
    "## Locating Brazil cluster number in Data Frame ##\n",
    "df.loc['Brazil'][:]"
   ]
  },
  {
   "cell_type": "code",
   "execution_count": 6,
   "metadata": {},
   "outputs": [],
   "source": [
    "## Creating lists of Countrys of Brazilian's Clusters ##\n",
    "list_economy = list(df[df['Economy']==2].index.values)\n",
    "list_inequality = list(df[df['Inequality']==2].index.values)\n",
    "list_gender = list(df[df['Gender']==0].index.values)\n",
    "list_population = list(df[df['Population']==1].index.values)\n",
    "list_expenditure = list(df[df['Expenditure']==2].index.values)\n",
    "list_health = list(df[df['Health']==0].index.values)\n",
    "list_environment = list(df[df['Environment']==0].index.values)"
   ]
  },
  {
   "cell_type": "code",
   "execution_count": 11,
   "metadata": {},
   "outputs": [
    {
     "data": {
      "text/plain": [
       "{'Belize',\n",
       " 'Brazil',\n",
       " 'Fiji',\n",
       " 'Iran (Islamic Republic of)',\n",
       " 'Jamaica',\n",
       " 'Kuwait',\n",
       " 'Maldives',\n",
       " 'Marshall Islands',\n",
       " 'Saint Kitts and Nevis',\n",
       " 'Saint Vincent and the Grenadines',\n",
       " 'Sri Lanka',\n",
       " 'Thailand',\n",
       " 'Turkey',\n",
       " 'Uruguay',\n",
       " 'Venezuela (Bolivarian Republic of)'}"
      ]
     },
     "execution_count": 11,
     "metadata": {},
     "output_type": "execute_result"
    }
   ],
   "source": [
    "## Finding the Countrys that with Brazil on each Cluster!!! ###\n",
    "partners = set(list_economy) & set(list_inequality) & set(list_gender)\n",
    "partners"
   ]
  },
  {
   "cell_type": "code",
   "execution_count": 12,
   "metadata": {},
   "outputs": [
    {
     "data": {
      "text/plain": [
       "{'Brazil', 'Marshall Islands', 'Palau'}"
      ]
     },
     "execution_count": 12,
     "metadata": {},
     "output_type": "execute_result"
    }
   ],
   "source": [
    "partners2 = set(list_population) & set(list_expenditure) \n",
    "partners2"
   ]
  },
  {
   "cell_type": "code",
   "execution_count": 14,
   "metadata": {},
   "outputs": [
    {
     "data": {
      "text/plain": [
       "{'Brazil',\n",
       " 'Brunei Darussalam',\n",
       " 'Costa Rica',\n",
       " 'Malaysia',\n",
       " 'Montenegro',\n",
       " 'Palau',\n",
       " 'Panama',\n",
       " 'Saint Vincent and the Grenadines',\n",
       " 'Seychelles',\n",
       " 'Slovenia',\n",
       " 'Suriname',\n",
       " 'Venezuela (Bolivarian Republic of)'}"
      ]
     },
     "execution_count": 14,
     "metadata": {},
     "output_type": "execute_result"
    }
   ],
   "source": [
    "partners3 = set(list_health) & set(list_environment) \n",
    "partners3"
   ]
  },
  {
   "cell_type": "code",
   "execution_count": 15,
   "metadata": {},
   "outputs": [
    {
     "data": {
      "text/plain": [
       "{'Brazil'}"
      ]
     },
     "execution_count": 15,
     "metadata": {},
     "output_type": "execute_result"
    }
   ],
   "source": [
    "final = set(list_economy) & set(list_inequality) & set(list_gender) & set(list_population) & set(list_expenditure) & set(list_health) & set(list_environment)\n",
    "final"
   ]
  },
  {
   "cell_type": "code",
   "execution_count": null,
   "metadata": {},
   "outputs": [],
   "source": []
  }
 ],
 "metadata": {
  "kernelspec": {
   "display_name": "Python 3",
   "language": "python",
   "name": "python3"
  },
  "language_info": {
   "codemirror_mode": {
    "name": "ipython",
    "version": 3
   },
   "file_extension": ".py",
   "mimetype": "text/x-python",
   "name": "python",
   "nbconvert_exporter": "python",
   "pygments_lexer": "ipython3",
   "version": "3.8.5"
  }
 },
 "nbformat": 4,
 "nbformat_minor": 4
}
