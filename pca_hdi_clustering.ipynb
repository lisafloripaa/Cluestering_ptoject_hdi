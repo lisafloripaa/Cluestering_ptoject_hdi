{
 "cells": [
  {
   "cell_type": "code",
   "execution_count": 1,
   "metadata": {},
   "outputs": [],
   "source": [
    "import pandas as pd\n",
    "import numpy as np\n",
    "import matplotlib.pyplot as plt\n",
    "import seaborn as sns\n",
    "import sklearn\n",
    "from sklearn.cluster import KMeans\n",
    "from sklearn.preprocessing import MinMaxScaler\n",
    "from sklearn.metrics import silhouette_score\n",
    "from yellowbrick.cluster import SilhouetteVisualizer\n",
    "%matplotlib inline "
   ]
  },
  {
   "cell_type": "code",
   "execution_count": 2,
   "metadata": {},
   "outputs": [],
   "source": [
    "df = pd.read_csv('df_hdi_complete.csv')"
   ]
  },
  {
   "cell_type": "code",
   "execution_count": 3,
   "metadata": {},
   "outputs": [],
   "source": [
    "df_country = pd.read_excel('dados_hdi.xlsx')\n",
    "df_country = df_country[['Country']]"
   ]
  },
  {
   "cell_type": "code",
   "execution_count": 4,
   "metadata": {},
   "outputs": [],
   "source": [
    "df = df.drop(['RHDI','Continent'], axis=1)\n",
    "min_max_scaler = MinMaxScaler()\n",
    "df[['HDI', 'LE', 'EYS', 'MYS', 'GNI', 'GDIV', 'GIIV', 'IHDI', 'ILE', 'IE',\n",
    "       'II', 'SSP', 'TP', 'TUP', 'MA', 'CHE', 'GEE', 'PPP', 'HB', 'VE', 'RPAE',\n",
    "       'WAFI', 'CDEP', 'CDE', 'FA', 'FAC', 'DMC', 'RLI', 'SLF', 'RDE']] = min_max_scaler.fit_transform(df[['HDI', 'LE', 'EYS', 'MYS', 'GNI', 'GDIV', 'GIIV', 'IHDI', 'ILE', 'IE',\n",
    "       'II', 'SSP', 'TP', 'TUP', 'MA', 'CHE', 'GEE', 'PPP', 'HB', 'VE', 'RPAE',\n",
    "       'WAFI', 'CDEP', 'CDE', 'FA', 'FAC', 'DMC', 'RLI', 'SLF', 'RDE']])"
   ]
  },
  {
   "cell_type": "code",
   "execution_count": 5,
   "metadata": {},
   "outputs": [
    {
     "name": "stdout",
     "output_type": "stream",
     "text": [
      "[[0.90631495 0.87260318 0.68681464 0.82904866 0.37944918]\n",
      " [0.25420367 0.34281718 0.3081967  0.27397112 0.02216431]\n",
      " [0.63906338 0.66723691 0.51223352 0.62973179 0.11068308]]\n",
      "[0 0 0 0 0 0 0 0 0 0 0 0 0 0 0 0 0 0 0 0 0 0 0 0 0 0 0 0 0 0 0 0 0 0 0 0 0\n",
      " 0 0 0 0 0 0 0 0 0 0 2 2 2 2 2 2 2 2 2 2 2 2 2 2 2 2 2 2 2 2 2 2 2 2 2 2 2\n",
      " 2 2 2 2 2 2 2 2 2 2 2 2 2 2 2 2 2 2 2 2 2 2 2 2 2 2 2 2 2 2 2 2 2 2 2 2 2\n",
      " 2 2 2 2 2 2 2 2 2 2 2 2 2 2 2 2 2 1 1 1 2 1 1 1 1 1 1 1 1 1 1 1 1 1 1 1 1\n",
      " 1 1 1 1 1 1 1 1 1 1 1 1 1 1 1 1 1 1 1 1 1 1 1 1 1 1 1 1 1 1 1 1 1 1 1 1 1\n",
      " 1 1 1 1]\n"
     ]
    },
    {
     "name": "stderr",
     "output_type": "stream",
     "text": [
      "<ipython-input-5-9407697f70e5>:18: SettingWithCopyWarning: \n",
      "A value is trying to be set on a copy of a slice from a DataFrame.\n",
      "Try using .loc[row_indexer,col_indexer] = value instead\n",
      "\n",
      "See the caveats in the documentation: https://pandas.pydata.org/pandas-docs/stable/user_guide/indexing.html#returning-a-view-versus-a-copy\n",
      "  df_economy['Economy'] = pd.DataFrame(labels)\n"
     ]
    }
   ],
   "source": [
    "###############\n",
    "### Economy ###\n",
    "###############\n",
    "\n",
    "### Defining the Economy data frame ###\n",
    "df_economy = df[['HDI', 'LE', 'EYS', 'MYS', 'GNI']]\n",
    "\n",
    "### Fiting the model ###\n",
    "kmeanModel = KMeans(n_clusters=3, random_state = 42)\n",
    "kmeanModel.fit(df_economy)\n",
    "\n",
    "centroids = kmeanModel.cluster_centers_\n",
    "labels = kmeanModel.labels_\n",
    "\n",
    "print(centroids)\n",
    "print(labels)\n",
    "\n",
    "df_economy['Economy'] = pd.DataFrame(labels)\n",
    "#sns.lmplot(x='EYS', y='HDI', data=df_economy, fit_reg=False, hue='Economy')\n",
    "#we gonna use pca an then make a chart with te two dimenssions and user the clustering results as hue :)"
   ]
  },
  {
   "cell_type": "code",
   "execution_count": 6,
   "metadata": {},
   "outputs": [
    {
     "name": "stdout",
     "output_type": "stream",
     "text": [
      "[[0.79703847 0.08565982 0.12176636 0.18449338 0.17933066 0.99902251\n",
      "  0.80808425]\n",
      " [0.18138946 0.68153586 0.71519913 0.41233414 0.74121855 0.24615779\n",
      "  0.20251521]\n",
      " [0.51528143 0.29577118 0.36595513 0.37401171 0.39521402 0.92763072\n",
      "  0.39334831]]\n",
      "[0 0 0 0 0 0 0 0 0 0 0 0 0 0 0 0 0 0 0 0 0 0 0 0 0 0 0 0 0 0 0 0 0 0 0 0 0\n",
      " 0 0 0 0 2 0 0 0 0 0 0 0 0 0 0 0 2 2 0 2 2 2 0 0 2 0 2 0 0 0 2 0 0 2 2 0 2\n",
      " 2 2 0 2 2 2 0 0 2 2 2 2 2 0 2 0 2 0 2 2 2 2 2 2 0 1 2 2 2 0 1 2 2 2 2 2 0\n",
      " 2 2 2 2 2 2 2 2 0 2 2 2 2 0 2 2 2 2 1 2 2 2 2 2 2 2 2 1 2 1 2 2 2 1 1 2 1\n",
      " 1 1 2 2 1 1 1 1 1 1 1 1 1 1 1 1 1 1 1 1 2 1 1 1 1 1 1 1 1 1 1 1 1 1 1 1 1\n",
      " 1 1 1 1]\n"
     ]
    },
    {
     "name": "stderr",
     "output_type": "stream",
     "text": [
      "<ipython-input-6-69419b634b62>:16: SettingWithCopyWarning: \n",
      "A value is trying to be set on a copy of a slice from a DataFrame.\n",
      "Try using .loc[row_indexer,col_indexer] = value instead\n",
      "\n",
      "See the caveats in the documentation: https://pandas.pydata.org/pandas-docs/stable/user_guide/indexing.html#returning-a-view-versus-a-copy\n",
      "  df_inequality['Inequality'] = pd.DataFrame(labels)\n"
     ]
    }
   ],
   "source": [
    "##################\n",
    "### Inequality ###\n",
    "##################\n",
    "df_inequality = df[['IHDI','ILE','IE','II','VE','RPAE','SLF']]\n",
    "\n",
    "### Fiting the model ###\n",
    "kmeanModel = KMeans(n_clusters=3, random_state = 42)\n",
    "kmeanModel.fit(df_inequality)\n",
    "\n",
    "centroids = kmeanModel.cluster_centers_\n",
    "labels = kmeanModel.labels_\n",
    "\n",
    "print(centroids)\n",
    "print(labels)\n",
    "\n",
    "df_inequality['Inequality'] = pd.DataFrame(labels)"
   ]
  },
  {
   "cell_type": "code",
   "execution_count": 7,
   "metadata": {},
   "outputs": [
    {
     "name": "stdout",
     "output_type": "stream",
     "text": [
      "[[0.87339052 0.38895191 0.24183454 0.75389918]\n",
      " [0.85969146 0.48280356 0.55512933 0.4349951 ]\n",
      " [0.89881353 0.08983794 0.5728162  0.90376744]\n",
      " [0.67785112 0.68937287 0.29046781 0.22755394]]\n",
      "[2 2 2 0 2 2 2 2 2 2 2 2 2 2 2 2 2 2 2 2 0 2 2 2 2 2 2 0 2 2 2 2 2 2 2 2 2\n",
      " 2 0 0 0 0 0 2 0 1 0 2 0 0 0 0 2 0 0 2 1 1 1 0 0 1 0 0 2 0 3 1 1 1 0 0 0 1\n",
      " 1 0 0 1 1 0 1 2 1 0 2 1 1 1 1 1 3 3 0 1 0 1 0 1 0 0 0 3 1 0 0 1 1 1 1 0 0\n",
      " 1 0 1 3 3 0 1 1 1 3 1 3 1 1 1 1 1 3 1 0 1 3 0 3 0 1 3 3 0 1 1 0 3 3 3 3 3\n",
      " 3 1 0 3 3 3 0 3 3 3 1 1 3 3 1 3 1 3 3 1 3 3 3 3 1 3 3 3 3 3 3 3 1 3 3 3 1\n",
      " 3 3 3 3]\n"
     ]
    },
    {
     "name": "stderr",
     "output_type": "stream",
     "text": [
      "<ipython-input-7-c0a622c9f82e>:16: SettingWithCopyWarning: \n",
      "A value is trying to be set on a copy of a slice from a DataFrame.\n",
      "Try using .loc[row_indexer,col_indexer] = value instead\n",
      "\n",
      "See the caveats in the documentation: https://pandas.pydata.org/pandas-docs/stable/user_guide/indexing.html#returning-a-view-versus-a-copy\n",
      "  df_gender['Gender'] = pd.DataFrame(labels)\n"
     ]
    }
   ],
   "source": [
    "##############\n",
    "### Gender ###\n",
    "##############\n",
    "df_gender = df[['GDIV', 'GIIV','SSP', 'WAFI']]\n",
    "\n",
    "### Fiting the model ###\n",
    "kmeanModel = KMeans(n_clusters=4, random_state = 42)\n",
    "kmeanModel.fit(df_gender)\n",
    "\n",
    "centroids = kmeanModel.cluster_centers_\n",
    "labels = kmeanModel.labels_\n",
    "\n",
    "print(centroids)\n",
    "print(labels)\n",
    "\n",
    "df_gender['Gender'] = pd.DataFrame(labels)"
   ]
  },
  {
   "cell_type": "code",
   "execution_count": 8,
   "metadata": {},
   "outputs": [
    {
     "name": "stdout",
     "output_type": "stream",
     "text": [
      "[[0.03556559 0.25544448 0.17248889]\n",
      " [0.01818891 0.69433015 0.38696849]\n",
      " [0.02210818 0.79830069 0.8054711 ]\n",
      " [0.03930206 0.3979114  0.67843164]]\n",
      "[2 3 2 2 2 2 2 2 2 2 2 2 2 2 2 2 2 3 1 2 3 3 2 2 2 2 2 2 2 2 1 2 3 2 3 2 2\n",
      " 2 3 2 1 1 2 3 1 1 1 2 3 1 1 2 2 1 2 2 1 1 3 1 3 1 1 2 3 3 3 3 3 2 1 3 3 3\n",
      " 1 3 2 3 1 3 3 3 1 1 3 1 3 3 1 3 1 1 1 1 3 1 3 1 1 1 1 1 1 0 1 1 1 1 0 0 0\n",
      " 1 1 1 1 0 1 3 1 0 1 0 1 1 0 1 0 1 0 0 0 1 0 0 1 0 0 0 0 0 0 0 0 0 1 0 0 1\n",
      " 1 0 0 1 0 0 0 0 0 0 0 0 0 0 0 0 0 1 0 0 0 1 0 0 0 0 0 0 0 0 0 0 0 0 0 0 0\n",
      " 0 0 0 0]\n"
     ]
    },
    {
     "name": "stderr",
     "output_type": "stream",
     "text": [
      "<ipython-input-8-6ccc3580cf11>:16: SettingWithCopyWarning: \n",
      "A value is trying to be set on a copy of a slice from a DataFrame.\n",
      "Try using .loc[row_indexer,col_indexer] = value instead\n",
      "\n",
      "See the caveats in the documentation: https://pandas.pydata.org/pandas-docs/stable/user_guide/indexing.html#returning-a-view-versus-a-copy\n",
      "  df_population['Population'] = pd.DataFrame(labels)\n"
     ]
    }
   ],
   "source": [
    "######################\n",
    "### Population/Age ###\n",
    "######################\n",
    "df_population = df[['TP', 'TUP', 'MA']]\n",
    "\n",
    "### Fiting the model ###\n",
    "kmeanModel = KMeans(n_clusters=4, random_state = 42)\n",
    "kmeanModel.fit(df_population)\n",
    "\n",
    "centroids = kmeanModel.cluster_centers_\n",
    "labels = kmeanModel.labels_\n",
    "\n",
    "print(centroids)\n",
    "print(labels)\n",
    "\n",
    "df_population['Population'] = pd.DataFrame(labels)"
   ]
  },
  {
   "cell_type": "code",
   "execution_count": 9,
   "metadata": {},
   "outputs": [
    {
     "name": "stdout",
     "output_type": "stream",
     "text": [
      "[[0.37720736 0.31980064 0.09715144]\n",
      " [0.19026941 0.23588424 0.10008329]\n",
      " [0.57538058 0.40772031 0.28766234]\n",
      " [0.59925142 0.41154048 0.6874649 ]]\n",
      "[2 0 3 1 2 3 3 2 2 3 3 1 2 3 2 2 3 3 3 3 2 2 3 1 2 2 2 0 0 2 1 0 0 0 0 2 0\n",
      " 2 0 0 1 1 0 0 1 0 1 0 1 2 1 1 0 1 0 0 0 0 0 1 0 0 1 1 0 0 1 0 0 2 0 1 0 1\n",
      " 0 1 0 1 1 1 0 0 0 2 1 0 1 1 0 0 0 0 1 1 0 0 1 0 1 0 0 0 0 0 1 0 0 1 1 0 1\n",
      " 0 1 0 0 1 2 1 1 0 1 0 1 0 0 0 1 0 1 0 1 0 1 2 0 2 1 0 1 1 1 0 1 1 1 1 1 1\n",
      " 1 0 1 1 1 1 1 0 1 1 1 0 1 1 1 1 0 1 0 1 2 0 0 1 1 0 1 0 0 1 1 1 0 0 2 1 0\n",
      " 0 1 0 0]\n"
     ]
    },
    {
     "name": "stderr",
     "output_type": "stream",
     "text": [
      "<ipython-input-9-3dfe9cad23b3>:16: SettingWithCopyWarning: \n",
      "A value is trying to be set on a copy of a slice from a DataFrame.\n",
      "Try using .loc[row_indexer,col_indexer] = value instead\n",
      "\n",
      "See the caveats in the documentation: https://pandas.pydata.org/pandas-docs/stable/user_guide/indexing.html#returning-a-view-versus-a-copy\n",
      "  df_expenditure['Expenditure'] = pd.DataFrame(labels)\n"
     ]
    }
   ],
   "source": [
    "#############################################\n",
    "### Health/Education/Research Expenditure ###\n",
    "#############################################\n",
    "df_expenditure = df[['CHE','GEE','RDE']]\n",
    "\n",
    "### Fiting the model ###\n",
    "kmeanModel = KMeans(n_clusters=4, random_state = 42)\n",
    "kmeanModel.fit(df_expenditure)\n",
    "\n",
    "centroids = kmeanModel.cluster_centers_\n",
    "labels = kmeanModel.labels_\n",
    "\n",
    "print(centroids)\n",
    "print(labels)\n",
    "\n",
    "df_expenditure['Expenditure'] = pd.DataFrame(labels)"
   ]
  },
  {
   "cell_type": "code",
   "execution_count": 10,
   "metadata": {},
   "outputs": [
    {
     "name": "stdout",
     "output_type": "stream",
     "text": [
      "[[0.25320244 0.21321868]\n",
      " [0.05061389 0.09206985]\n",
      " [0.53637927 0.28749721]\n",
      " [0.40323763 0.55731225]]\n",
      "[0 0 2 0 2 3 2 2 2 2 2 0 0 3 2 0 0 3 2 3 2 0 3 0 2 3 3 0 2 2 0 2 0 2 3 2 3\n",
      " 2 3 3 0 1 0 3 0 2 0 0 3 0 3 3 3 0 2 3 0 0 3 0 2 0 0 0 3 0 0 2 0 2 0 0 0 0\n",
      " 0 0 3 0 1 1 2 0 0 0 0 0 1 2 0 3 0 0 1 1 2 0 0 0 3 1 1 0 1 1 0 0 1 1 1 1 1\n",
      " 0 0 1 0 1 1 1 1 0 1 1 1 1 0 1 1 1 1 1 1 1 1 1 1 1 1 1 1 1 0 1 1 1 1 1 1 1\n",
      " 1 1 1 1 1 1 1 1 1 1 1 1 1 1 1 1 1 1 1 1 1 1 1 1 1 1 1 1 1 1 1 1 1 1 1 1 1\n",
      " 1 1 1 1]\n"
     ]
    },
    {
     "name": "stderr",
     "output_type": "stream",
     "text": [
      "<ipython-input-10-3d917b6382ed>:16: SettingWithCopyWarning: \n",
      "A value is trying to be set on a copy of a slice from a DataFrame.\n",
      "Try using .loc[row_indexer,col_indexer] = value instead\n",
      "\n",
      "See the caveats in the documentation: https://pandas.pydata.org/pandas-docs/stable/user_guide/indexing.html#returning-a-view-versus-a-copy\n",
      "  df_health['Health'] = pd.DataFrame(labels)\n"
     ]
    }
   ],
   "source": [
    "####################\n",
    "### Health Acess ###\n",
    "####################\n",
    "df_health = df[['PPP','HB']]\n",
    "\n",
    "### Fiting the model ###\n",
    "kmeanModel = KMeans(n_clusters=4, random_state = 42)\n",
    "kmeanModel.fit(df_health)\n",
    "\n",
    "centroids = kmeanModel.cluster_centers_\n",
    "labels = kmeanModel.labels_\n",
    "\n",
    "print(centroids)\n",
    "print(labels)\n",
    "\n",
    "df_health['Health'] = pd.DataFrame(labels)"
   ]
  },
  {
   "cell_type": "code",
   "execution_count": 11,
   "metadata": {},
   "outputs": [
    {
     "name": "stdout",
     "output_type": "stream",
     "text": [
      "[[0.10677696 0.22188229 0.69515457 0.26331147 0.1945199  0.73675194]\n",
      " [0.07737005 0.21033605 0.19509727 0.27185284 0.15078981 0.85295624]\n",
      " [0.04888792 0.20990386 0.35727706 0.25056011 0.11420954 0.53818925]\n",
      " [0.33001517 0.47626389 0.21189261 0.31966807 0.46462896 0.82326309]]\n",
      "[1 1 1 1 1 1 0 3 1 1 0 3 1 1 2 3 3 0 2 0 1 0 0 3 1 1 3 1 3 1 3 1 1 1 3 1 0\n",
      " 1 1 1 3 3 3 1 3 1 0 0 1 0 3 3 3 1 3 3 0 2 1 3 1 0 0 3 3 2 0 3 1 2 3 2 3 2\n",
      " 2 2 3 1 0 2 1 1 2 0 3 2 1 1 2 1 1 1 2 2 1 1 0 0 3 3 2 1 1 2 1 1 0 2 2 0 0\n",
      " 3 0 3 1 1 0 2 0 1 1 0 1 1 1 1 2 1 0 1 2 2 2 2 0 0 0 2 2 2 2 1 1 2 0 0 2 1\n",
      " 0 2 0 3 2 1 0 2 1 1 2 1 1 1 2 2 1 1 1 1 1 2 1 1 1 2 0 0 1 1 1 1 2 1 1 1 1\n",
      " 1 1 1 1]\n"
     ]
    },
    {
     "name": "stderr",
     "output_type": "stream",
     "text": [
      "<ipython-input-11-9a0b1a383488>:16: SettingWithCopyWarning: \n",
      "A value is trying to be set on a copy of a slice from a DataFrame.\n",
      "Try using .loc[row_indexer,col_indexer] = value instead\n",
      "\n",
      "See the caveats in the documentation: https://pandas.pydata.org/pandas-docs/stable/user_guide/indexing.html#returning-a-view-versus-a-copy\n",
      "  df_environment['Environment'] = pd.DataFrame(labels)\n"
     ]
    }
   ],
   "source": [
    "####################\n",
    "### Environment ###\n",
    "###################\n",
    "df_environment = df[['CDEP', 'CDE', 'FA', 'FAC', 'DMC', 'RLI']]\n",
    "\n",
    "### Fiting the model and ploting an example ###\n",
    "kmeanModel = KMeans(n_clusters=4, random_state = 42)\n",
    "kmeanModel.fit(df_environment)\n",
    "\n",
    "centroids = kmeanModel.cluster_centers_\n",
    "labels = kmeanModel.labels_\n",
    "\n",
    "print(centroids)\n",
    "print(labels)\n",
    "\n",
    "df_environment['Environment'] = pd.DataFrame(labels)"
   ]
  },
  {
   "cell_type": "code",
   "execution_count": 12,
   "metadata": {},
   "outputs": [
    {
     "data": {
      "text/html": [
       "<div>\n",
       "<style scoped>\n",
       "    .dataframe tbody tr th:only-of-type {\n",
       "        vertical-align: middle;\n",
       "    }\n",
       "\n",
       "    .dataframe tbody tr th {\n",
       "        vertical-align: top;\n",
       "    }\n",
       "\n",
       "    .dataframe thead th {\n",
       "        text-align: right;\n",
       "    }\n",
       "</style>\n",
       "<table border=\"1\" class=\"dataframe\">\n",
       "  <thead>\n",
       "    <tr style=\"text-align: right;\">\n",
       "      <th></th>\n",
       "      <th>Economy</th>\n",
       "      <th>Inequality</th>\n",
       "      <th>Gender</th>\n",
       "      <th>Population</th>\n",
       "      <th>Expenditure</th>\n",
       "      <th>Health</th>\n",
       "      <th>Environment</th>\n",
       "    </tr>\n",
       "    <tr>\n",
       "      <th>Country</th>\n",
       "      <th></th>\n",
       "      <th></th>\n",
       "      <th></th>\n",
       "      <th></th>\n",
       "      <th></th>\n",
       "      <th></th>\n",
       "      <th></th>\n",
       "    </tr>\n",
       "  </thead>\n",
       "  <tbody>\n",
       "    <tr>\n",
       "      <th>Norway</th>\n",
       "      <td>0</td>\n",
       "      <td>0</td>\n",
       "      <td>2</td>\n",
       "      <td>2</td>\n",
       "      <td>2</td>\n",
       "      <td>0</td>\n",
       "      <td>1</td>\n",
       "    </tr>\n",
       "    <tr>\n",
       "      <th>Ireland</th>\n",
       "      <td>0</td>\n",
       "      <td>0</td>\n",
       "      <td>2</td>\n",
       "      <td>3</td>\n",
       "      <td>0</td>\n",
       "      <td>0</td>\n",
       "      <td>1</td>\n",
       "    </tr>\n",
       "    <tr>\n",
       "      <th>Switzerland</th>\n",
       "      <td>0</td>\n",
       "      <td>0</td>\n",
       "      <td>2</td>\n",
       "      <td>2</td>\n",
       "      <td>3</td>\n",
       "      <td>2</td>\n",
       "      <td>1</td>\n",
       "    </tr>\n",
       "    <tr>\n",
       "      <th>Hong Kong, China (SAR)</th>\n",
       "      <td>0</td>\n",
       "      <td>0</td>\n",
       "      <td>0</td>\n",
       "      <td>2</td>\n",
       "      <td>1</td>\n",
       "      <td>0</td>\n",
       "      <td>1</td>\n",
       "    </tr>\n",
       "    <tr>\n",
       "      <th>Iceland</th>\n",
       "      <td>0</td>\n",
       "      <td>0</td>\n",
       "      <td>2</td>\n",
       "      <td>2</td>\n",
       "      <td>2</td>\n",
       "      <td>2</td>\n",
       "      <td>1</td>\n",
       "    </tr>\n",
       "  </tbody>\n",
       "</table>\n",
       "</div>"
      ],
      "text/plain": [
       "                        Economy  Inequality  Gender  Population  Expenditure  \\\n",
       "Country                                                                        \n",
       "Norway                        0           0       2           2            2   \n",
       "Ireland                       0           0       2           3            0   \n",
       "Switzerland                   0           0       2           2            3   \n",
       "Hong Kong, China (SAR)        0           0       0           2            1   \n",
       "Iceland                       0           0       2           2            2   \n",
       "\n",
       "                        Health  Environment  \n",
       "Country                                      \n",
       "Norway                       0            1  \n",
       "Ireland                      0            1  \n",
       "Switzerland                  2            1  \n",
       "Hong Kong, China (SAR)       0            1  \n",
       "Iceland                      2            1  "
      ]
     },
     "execution_count": 12,
     "metadata": {},
     "output_type": "execute_result"
    }
   ],
   "source": [
    "############################\n",
    "### Final Results so far AGAIS ###\n",
    "############################\n",
    "df_full_hdi = pd.concat([df_country,df_economy['Economy'],df_inequality['Inequality'],df_gender['Gender'],df_population['Population'],df_expenditure['Expenditure'],df_health['Health'],df_environment['Environment']], axis=1)\n",
    "\n",
    "df_full_hdi.set_index('Country',inplace=True)\n",
    "df_full_hdi.head()"
   ]
  },
  {
   "cell_type": "code",
   "execution_count": 13,
   "metadata": {},
   "outputs": [],
   "source": [
    "#####################################################################33\n",
    "### pd.DataFrame(df_full).to_csv(\"cluster_results_hdi.csv\", index=False) ### to compare ###\n",
    "\n",
    "pd.DataFrame(df_full_hdi).to_csv(\"teste_cluster_results_hdi.csv\", index=False)\n",
    "\n",
    "#################################################################"
   ]
  },
  {
   "cell_type": "code",
   "execution_count": 21,
   "metadata": {},
   "outputs": [
    {
     "data": {
      "text/plain": [
       "Economy        2\n",
       "Inequality     2\n",
       "Gender         0\n",
       "Population     1\n",
       "Expenditure    2\n",
       "Health         0\n",
       "Environment    0\n",
       "Name: Brazil, dtype: int32"
      ]
     },
     "execution_count": 21,
     "metadata": {},
     "output_type": "execute_result"
    }
   ],
   "source": [
    "df_full_hdi.loc['Brazil'][:]"
   ]
  },
  {
   "cell_type": "code",
   "execution_count": 15,
   "metadata": {},
   "outputs": [
    {
     "data": {
      "text/plain": [
       "['Montenegro',\n",
       " 'Romania',\n",
       " 'Palau',\n",
       " 'Kazakhstan',\n",
       " 'Russian Federation',\n",
       " 'Belarus',\n",
       " 'Turkey',\n",
       " 'Uruguay',\n",
       " 'Bulgaria',\n",
       " 'Panama',\n",
       " 'Bahamas',\n",
       " 'Barbados',\n",
       " 'Oman',\n",
       " 'Georgia',\n",
       " 'Costa Rica',\n",
       " 'Malaysia',\n",
       " 'Kuwait',\n",
       " 'Serbia',\n",
       " 'Mauritius',\n",
       " 'Seychelles',\n",
       " 'Trinidad and Tobago',\n",
       " 'Albania',\n",
       " 'Cuba',\n",
       " 'Iran (Islamic Republic of)',\n",
       " 'Sri Lanka',\n",
       " 'Bosnia and Herzegovina',\n",
       " 'Grenada',\n",
       " 'Mexico',\n",
       " 'Saint Kitts and Nevis',\n",
       " 'Ukraine',\n",
       " 'Antigua and Barbuda',\n",
       " 'Peru',\n",
       " 'Thailand',\n",
       " 'Armenia',\n",
       " 'North Macedonia',\n",
       " 'Colombia',\n",
       " 'Brazil',\n",
       " 'China',\n",
       " 'Ecuador',\n",
       " 'Saint Lucia',\n",
       " 'Azerbaijan',\n",
       " 'Dominican Republic',\n",
       " 'Moldova (Republic of)',\n",
       " 'Algeria',\n",
       " 'Lebanon',\n",
       " 'Fiji',\n",
       " 'Dominica',\n",
       " 'Maldives',\n",
       " 'Tunisia',\n",
       " 'Saint Vincent and the Grenadines',\n",
       " 'Suriname',\n",
       " 'Mongolia',\n",
       " 'Botswana',\n",
       " 'Jamaica',\n",
       " 'Jordan',\n",
       " 'Paraguay',\n",
       " 'Tonga',\n",
       " 'Libya',\n",
       " 'Uzbekistan',\n",
       " 'Bolivia (Plurinational State of)',\n",
       " 'Indonesia',\n",
       " 'Philippines',\n",
       " 'Belize',\n",
       " 'Samoa',\n",
       " 'Turkmenistan',\n",
       " 'Venezuela (Bolivarian Republic of)',\n",
       " 'South Africa',\n",
       " 'Palestine, State of',\n",
       " 'Egypt',\n",
       " 'Marshall Islands',\n",
       " 'Viet Nam',\n",
       " 'Gabon',\n",
       " 'Kyrgyzstan',\n",
       " 'Morocco',\n",
       " 'Guyana',\n",
       " 'Iraq',\n",
       " 'El Salvador',\n",
       " 'Tajikistan',\n",
       " 'Cabo Verde',\n",
       " 'Guatemala',\n",
       " 'Nicaragua',\n",
       " 'Honduras']"
      ]
     },
     "execution_count": 15,
     "metadata": {},
     "output_type": "execute_result"
    }
   ],
   "source": [
    "list(df_full_hdi[df_full_hdi['Economy']==2].index.values)"
   ]
  },
  {
   "cell_type": "code",
   "execution_count": 16,
   "metadata": {},
   "outputs": [
    {
     "data": {
      "text/plain": [
       "['Bahrain',\n",
       " 'Turkey',\n",
       " 'Uruguay',\n",
       " 'Panama',\n",
       " 'Bahamas',\n",
       " 'Barbados',\n",
       " 'Costa Rica',\n",
       " 'Kuwait',\n",
       " 'Trinidad and Tobago',\n",
       " 'Iran (Islamic Republic of)',\n",
       " 'Sri Lanka',\n",
       " 'Grenada',\n",
       " 'Mexico',\n",
       " 'Saint Kitts and Nevis',\n",
       " 'Antigua and Barbuda',\n",
       " 'Peru',\n",
       " 'Thailand',\n",
       " 'Colombia',\n",
       " 'Brazil',\n",
       " 'China',\n",
       " 'Ecuador',\n",
       " 'Saint Lucia',\n",
       " 'Dominican Republic',\n",
       " 'Algeria',\n",
       " 'Fiji',\n",
       " 'Dominica',\n",
       " 'Maldives',\n",
       " 'Tunisia',\n",
       " 'Saint Vincent and the Grenadines',\n",
       " 'Suriname',\n",
       " 'Jamaica',\n",
       " 'Jordan',\n",
       " 'Paraguay',\n",
       " 'Uzbekistan',\n",
       " 'Bolivia (Plurinational State of)',\n",
       " 'Indonesia',\n",
       " 'Philippines',\n",
       " 'Belize',\n",
       " 'Turkmenistan',\n",
       " 'Venezuela (Bolivarian Republic of)',\n",
       " 'South Africa',\n",
       " 'Palestine, State of',\n",
       " 'Egypt',\n",
       " 'Marshall Islands',\n",
       " 'Viet Nam',\n",
       " 'Gabon',\n",
       " 'Morocco',\n",
       " 'Guyana',\n",
       " 'Iraq',\n",
       " 'El Salvador',\n",
       " 'Cabo Verde',\n",
       " 'Guatemala',\n",
       " 'Nicaragua',\n",
       " 'Bhutan',\n",
       " 'India',\n",
       " 'Honduras',\n",
       " 'Bangladesh',\n",
       " 'Kiribati',\n",
       " 'Sao Tome and Principe',\n",
       " 'Micronesia (Federated States of)',\n",
       " \"Lao People's Democratic Republic\",\n",
       " 'Eswatini (Kingdom of)',\n",
       " 'Vanuatu',\n",
       " 'Nepal',\n",
       " 'Kenya',\n",
       " 'Cambodia',\n",
       " 'Myanmar',\n",
       " 'Solomon Islands',\n",
       " 'Syrian Arab Republic',\n",
       " 'Afghanistan']"
      ]
     },
     "execution_count": 16,
     "metadata": {},
     "output_type": "execute_result"
    }
   ],
   "source": [
    "list(df_full_hdi[df_full_hdi['Inequality']==2].index.values)"
   ]
  },
  {
   "cell_type": "code",
   "execution_count": 17,
   "metadata": {},
   "outputs": [
    {
     "data": {
      "text/plain": [
       "['Hong Kong, China (SAR)',\n",
       " 'Liechtenstein',\n",
       " 'Malta',\n",
       " 'Slovakia',\n",
       " 'Hungary',\n",
       " 'Saudi Arabia',\n",
       " 'Bahrain',\n",
       " 'Chile',\n",
       " 'Qatar',\n",
       " 'Brunei Darussalam',\n",
       " 'Romania',\n",
       " 'Palau',\n",
       " 'Kazakhstan',\n",
       " 'Russian Federation',\n",
       " 'Turkey',\n",
       " 'Uruguay',\n",
       " 'Oman',\n",
       " 'Georgia',\n",
       " 'Malaysia',\n",
       " 'Kuwait',\n",
       " 'Mauritius',\n",
       " 'Iran (Islamic Republic of)',\n",
       " 'Sri Lanka',\n",
       " 'Bosnia and Herzegovina',\n",
       " 'Saint Kitts and Nevis',\n",
       " 'Ukraine',\n",
       " 'Thailand',\n",
       " 'Brazil',\n",
       " 'Fiji',\n",
       " 'Maldives',\n",
       " 'Saint Vincent and the Grenadines',\n",
       " 'Mongolia',\n",
       " 'Botswana',\n",
       " 'Jamaica',\n",
       " 'Tonga',\n",
       " 'Libya',\n",
       " 'Belize',\n",
       " 'Samoa',\n",
       " 'Venezuela (Bolivarian Republic of)',\n",
       " 'Marshall Islands',\n",
       " 'India',\n",
       " 'Kiribati',\n",
       " 'Micronesia (Federated States of)',\n",
       " 'Vanuatu',\n",
       " 'Kenya',\n",
       " 'Solomon Islands',\n",
       " 'Papua New Guinea']"
      ]
     },
     "execution_count": 17,
     "metadata": {},
     "output_type": "execute_result"
    }
   ],
   "source": [
    "list(df_full_hdi[df_full_hdi['Gender']==0].index.values)"
   ]
  },
  {
   "cell_type": "code",
   "execution_count": 18,
   "metadata": {},
   "outputs": [
    {
     "data": {
      "text/plain": [
       "['Israel',\n",
       " 'United Arab Emirates',\n",
       " 'Saudi Arabia',\n",
       " 'Bahrain',\n",
       " 'Qatar',\n",
       " 'Argentina',\n",
       " 'Brunei Darussalam',\n",
       " 'Palau',\n",
       " 'Kazakhstan',\n",
       " 'Turkey',\n",
       " 'Panama',\n",
       " 'Bahamas',\n",
       " 'Oman',\n",
       " 'Costa Rica',\n",
       " 'Malaysia',\n",
       " 'Iran (Islamic Republic of)',\n",
       " 'Mexico',\n",
       " 'Peru',\n",
       " 'Colombia',\n",
       " 'Brazil',\n",
       " 'Ecuador',\n",
       " 'Dominican Republic',\n",
       " 'Algeria',\n",
       " 'Lebanon',\n",
       " 'Fiji',\n",
       " 'Dominica',\n",
       " 'Tunisia',\n",
       " 'Suriname',\n",
       " 'Mongolia',\n",
       " 'Botswana',\n",
       " 'Jamaica',\n",
       " 'Jordan',\n",
       " 'Paraguay',\n",
       " 'Libya',\n",
       " 'Uzbekistan',\n",
       " 'Bolivia (Plurinational State of)',\n",
       " 'Indonesia',\n",
       " 'Turkmenistan',\n",
       " 'Venezuela (Bolivarian Republic of)',\n",
       " 'South Africa',\n",
       " 'Palestine, State of',\n",
       " 'Marshall Islands',\n",
       " 'Gabon',\n",
       " 'Morocco',\n",
       " 'Iraq',\n",
       " 'El Salvador',\n",
       " 'Cabo Verde',\n",
       " 'Nicaragua',\n",
       " 'Honduras',\n",
       " 'Sao Tome and Principe',\n",
       " 'Equatorial Guinea',\n",
       " 'Angola',\n",
       " 'Congo',\n",
       " 'Syrian Arab Republic',\n",
       " 'Djibouti',\n",
       " 'Haiti']"
      ]
     },
     "execution_count": 18,
     "metadata": {},
     "output_type": "execute_result"
    }
   ],
   "source": [
    "list(df_full_hdi[df_full_hdi['Population']==1].index.values)"
   ]
  },
  {
   "cell_type": "code",
   "execution_count": 19,
   "metadata": {},
   "outputs": [
    {
     "data": {
      "text/plain": [
       "['Norway',\n",
       " 'Iceland',\n",
       " 'Australia',\n",
       " 'Netherlands',\n",
       " 'United Kingdom',\n",
       " 'New Zealand',\n",
       " 'Canada',\n",
       " 'Liechtenstein',\n",
       " 'Slovenia',\n",
       " 'Spain',\n",
       " 'France',\n",
       " 'Czechia',\n",
       " 'Italy',\n",
       " 'Andorra',\n",
       " 'Portugal',\n",
       " 'Palau',\n",
       " 'Cuba',\n",
       " 'Brazil',\n",
       " 'Marshall Islands',\n",
       " 'Kiribati',\n",
       " 'Micronesia (Federated States of)',\n",
       " 'Afghanistan',\n",
       " 'Sierra Leone']"
      ]
     },
     "execution_count": 19,
     "metadata": {},
     "output_type": "execute_result"
    }
   ],
   "source": [
    "list(df_full_hdi[df_full_hdi['Expenditure']==2].index.values)"
   ]
  },
  {
   "cell_type": "code",
   "execution_count": 20,
   "metadata": {},
   "outputs": [
    {
     "data": {
      "text/plain": [
       "['Norway',\n",
       " 'Ireland',\n",
       " 'Hong Kong, China (SAR)',\n",
       " 'Singapore',\n",
       " 'United Kingdom',\n",
       " 'Canada',\n",
       " 'United States',\n",
       " 'Slovenia',\n",
       " 'Luxembourg',\n",
       " 'Malta',\n",
       " 'United Arab Emirates',\n",
       " 'Cyprus',\n",
       " 'Saudi Arabia',\n",
       " 'Chile',\n",
       " 'Qatar',\n",
       " 'Brunei Darussalam',\n",
       " 'Montenegro',\n",
       " 'Palau',\n",
       " 'Turkey',\n",
       " 'Panama',\n",
       " 'Bahamas',\n",
       " 'Oman',\n",
       " 'Costa Rica',\n",
       " 'Malaysia',\n",
       " 'Kuwait',\n",
       " 'Mauritius',\n",
       " 'Seychelles',\n",
       " 'Albania',\n",
       " 'Iran (Islamic Republic of)',\n",
       " 'Sri Lanka',\n",
       " 'Bosnia and Herzegovina',\n",
       " 'Grenada',\n",
       " 'Mexico',\n",
       " 'Saint Kitts and Nevis',\n",
       " 'Antigua and Barbuda',\n",
       " 'North Macedonia',\n",
       " 'Colombia',\n",
       " 'Brazil',\n",
       " 'China',\n",
       " 'Ecuador',\n",
       " 'Dominican Republic',\n",
       " 'Algeria',\n",
       " 'Lebanon',\n",
       " 'Tunisia',\n",
       " 'Saint Vincent and the Grenadines',\n",
       " 'Suriname',\n",
       " 'Jordan',\n",
       " 'Libya',\n",
       " 'Uzbekistan',\n",
       " 'Turkmenistan',\n",
       " 'Venezuela (Bolivarian Republic of)',\n",
       " 'Palestine, State of',\n",
       " 'Kyrgyzstan',\n",
       " 'Tajikistan',\n",
       " 'Timor-Leste']"
      ]
     },
     "execution_count": 20,
     "metadata": {},
     "output_type": "execute_result"
    }
   ],
   "source": [
    "list(df_full_hdi[df_full_hdi['Health']==0].index.values)"
   ]
  },
  {
   "cell_type": "code",
   "execution_count": 22,
   "metadata": {},
   "outputs": [
    {
     "data": {
      "text/plain": [
       "['Sweden',\n",
       " 'Finland',\n",
       " 'Austria',\n",
       " 'Japan',\n",
       " 'Slovenia',\n",
       " 'Korea (Republic of)',\n",
       " 'Latvia',\n",
       " 'Brunei Darussalam',\n",
       " 'Montenegro',\n",
       " 'Palau',\n",
       " 'Panama',\n",
       " 'Costa Rica',\n",
       " 'Malaysia',\n",
       " 'Seychelles',\n",
       " 'Peru',\n",
       " 'Brazil',\n",
       " 'Saint Vincent and the Grenadines',\n",
       " 'Suriname',\n",
       " 'Bolivia (Plurinational State of)',\n",
       " 'Belize',\n",
       " 'Samoa',\n",
       " 'Venezuela (Bolivarian Republic of)',\n",
       " 'Marshall Islands',\n",
       " 'Gabon',\n",
       " 'Guyana',\n",
       " 'Bhutan',\n",
       " 'Sao Tome and Principe',\n",
       " 'Micronesia (Federated States of)',\n",
       " \"Lao People's Democratic Republic\",\n",
       " 'Equatorial Guinea',\n",
       " 'Zambia',\n",
       " 'Congo',\n",
       " 'Solomon Islands',\n",
       " 'Papua New Guinea',\n",
       " 'Congo (Democratic Republic of the)',\n",
       " 'Guinea-Bissau']"
      ]
     },
     "execution_count": 22,
     "metadata": {},
     "output_type": "execute_result"
    }
   ],
   "source": [
    "list(df_full_hdi[df_full_hdi['Environment']==0].index.values)"
   ]
  },
  {
   "cell_type": "code",
   "execution_count": null,
   "metadata": {},
   "outputs": [],
   "source": [
    "### pd.DataFrame(df_full_hdi).to_csv(\"teste_cluster_results_hdi.csv\", index=False) ###"
   ]
  }
 ],
 "metadata": {
  "kernelspec": {
   "display_name": "Python 3",
   "language": "python",
   "name": "python3"
  },
  "language_info": {
   "codemirror_mode": {
    "name": "ipython",
    "version": 3
   },
   "file_extension": ".py",
   "mimetype": "text/x-python",
   "name": "python",
   "nbconvert_exporter": "python",
   "pygments_lexer": "ipython3",
   "version": "3.8.5"
  }
 },
 "nbformat": 4,
 "nbformat_minor": 4
}
