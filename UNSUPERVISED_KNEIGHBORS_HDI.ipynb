{
 "cells": [
  {
   "cell_type": "code",
   "execution_count": 1,
   "metadata": {},
   "outputs": [],
   "source": [
    "import pandas as pd\n",
    "import numpy as np\n",
    "import matplotlib.pyplot as plt\n",
    "import seaborn as sns\n",
    "import sklearn\n",
    "from sklearn.neighbors import NearestNeighbors\n",
    "\n",
    "%matplotlib inline "
   ]
  },
  {
   "cell_type": "code",
   "execution_count": 2,
   "metadata": {},
   "outputs": [],
   "source": [
    "### Importing all the dataframes with only the Cluster that Brazil is located in each case ###\n",
    "df_economy_hdi = pd.read_csv('df_economy_hdi.csv')\n",
    "df_inequality_hdi = pd.read_csv('df_inequality_hdi.csv')\n",
    "df_gender_hdi = pd.read_csv('df_gender_hdi.csv')\n",
    "df_population_hdi = pd.read_csv('df_population_hdi.csv')\n",
    "df_expenditure_hdi = pd.read_csv('df_expenditure_hdi.csv') \n",
    "df_health_hdi = pd.read_csv('df_health_hdi.csv') \n",
    "df_environment_hdi = pd.read_csv('df_environment_hdi.csv') "
   ]
  },
  {
   "cell_type": "code",
   "execution_count": 3,
   "metadata": {},
   "outputs": [
    {
     "data": {
      "text/html": [
       "<div>\n",
       "<style scoped>\n",
       "    .dataframe tbody tr th:only-of-type {\n",
       "        vertical-align: middle;\n",
       "    }\n",
       "\n",
       "    .dataframe tbody tr th {\n",
       "        vertical-align: top;\n",
       "    }\n",
       "\n",
       "    .dataframe thead th {\n",
       "        text-align: right;\n",
       "    }\n",
       "</style>\n",
       "<table border=\"1\" class=\"dataframe\">\n",
       "  <thead>\n",
       "    <tr style=\"text-align: right;\">\n",
       "      <th></th>\n",
       "      <th>Country</th>\n",
       "      <th>HDI</th>\n",
       "      <th>LE</th>\n",
       "      <th>EYS</th>\n",
       "      <th>MYS</th>\n",
       "      <th>GNI</th>\n",
       "      <th>Economy</th>\n",
       "    </tr>\n",
       "  </thead>\n",
       "  <tbody>\n",
       "    <tr>\n",
       "      <th>36</th>\n",
       "      <td>Brazil</td>\n",
       "      <td>0.65897</td>\n",
       "      <td>0.715643</td>\n",
       "      <td>0.614119</td>\n",
       "      <td>0.506661</td>\n",
       "      <td>0.103694</td>\n",
       "      <td>2</td>\n",
       "    </tr>\n",
       "  </tbody>\n",
       "</table>\n",
       "</div>"
      ],
      "text/plain": [
       "   Country      HDI        LE       EYS       MYS       GNI  Economy\n",
       "36  Brazil  0.65897  0.715643  0.614119  0.506661  0.103694        2"
      ]
     },
     "metadata": {},
     "output_type": "display_data"
    },
    {
     "data": {
      "text/html": [
       "<div>\n",
       "<style scoped>\n",
       "    .dataframe tbody tr th:only-of-type {\n",
       "        vertical-align: middle;\n",
       "    }\n",
       "\n",
       "    .dataframe tbody tr th {\n",
       "        vertical-align: top;\n",
       "    }\n",
       "\n",
       "    .dataframe thead th {\n",
       "        text-align: right;\n",
       "    }\n",
       "</style>\n",
       "<table border=\"1\" class=\"dataframe\">\n",
       "  <thead>\n",
       "    <tr style=\"text-align: right;\">\n",
       "      <th></th>\n",
       "      <th>Country</th>\n",
       "      <th>IHDI</th>\n",
       "      <th>ILE</th>\n",
       "      <th>IE</th>\n",
       "      <th>II</th>\n",
       "      <th>VE</th>\n",
       "      <th>RPAE</th>\n",
       "      <th>SLF</th>\n",
       "      <th>Inequality</th>\n",
       "    </tr>\n",
       "  </thead>\n",
       "  <tbody>\n",
       "    <tr>\n",
       "      <th>18</th>\n",
       "      <td>Brazil</td>\n",
       "      <td>0.506747</td>\n",
       "      <td>0.220779</td>\n",
       "      <td>0.414555</td>\n",
       "      <td>0.669368</td>\n",
       "      <td>0.293995</td>\n",
       "      <td>1.0</td>\n",
       "      <td>0.648593</td>\n",
       "      <td>2</td>\n",
       "    </tr>\n",
       "  </tbody>\n",
       "</table>\n",
       "</div>"
      ],
      "text/plain": [
       "   Country      IHDI       ILE        IE        II        VE  RPAE       SLF  \\\n",
       "18  Brazil  0.506747  0.220779  0.414555  0.669368  0.293995   1.0  0.648593   \n",
       "\n",
       "    Inequality  \n",
       "18           2  "
      ]
     },
     "metadata": {},
     "output_type": "display_data"
    },
    {
     "data": {
      "text/html": [
       "<div>\n",
       "<style scoped>\n",
       "    .dataframe tbody tr th:only-of-type {\n",
       "        vertical-align: middle;\n",
       "    }\n",
       "\n",
       "    .dataframe tbody tr th {\n",
       "        vertical-align: top;\n",
       "    }\n",
       "\n",
       "    .dataframe thead th {\n",
       "        text-align: right;\n",
       "    }\n",
       "</style>\n",
       "<table border=\"1\" class=\"dataframe\">\n",
       "  <thead>\n",
       "    <tr style=\"text-align: right;\">\n",
       "      <th></th>\n",
       "      <th>Country</th>\n",
       "      <th>GDIV</th>\n",
       "      <th>GIIV</th>\n",
       "      <th>SSP</th>\n",
       "      <th>WAFI</th>\n",
       "      <th>Gender</th>\n",
       "    </tr>\n",
       "  </thead>\n",
       "  <tbody>\n",
       "    <tr>\n",
       "      <th>27</th>\n",
       "      <td>Brazil</td>\n",
       "      <td>0.922445</td>\n",
       "      <td>0.497403</td>\n",
       "      <td>0.269189</td>\n",
       "      <td>0.669624</td>\n",
       "      <td>0</td>\n",
       "    </tr>\n",
       "  </tbody>\n",
       "</table>\n",
       "</div>"
      ],
      "text/plain": [
       "   Country      GDIV      GIIV       SSP      WAFI  Gender\n",
       "27  Brazil  0.922445  0.497403  0.269189  0.669624       0"
      ]
     },
     "metadata": {},
     "output_type": "display_data"
    },
    {
     "data": {
      "text/html": [
       "<div>\n",
       "<style scoped>\n",
       "    .dataframe tbody tr th:only-of-type {\n",
       "        vertical-align: middle;\n",
       "    }\n",
       "\n",
       "    .dataframe tbody tr th {\n",
       "        vertical-align: top;\n",
       "    }\n",
       "\n",
       "    .dataframe thead th {\n",
       "        text-align: right;\n",
       "    }\n",
       "</style>\n",
       "<table border=\"1\" class=\"dataframe\">\n",
       "  <thead>\n",
       "    <tr style=\"text-align: right;\">\n",
       "      <th></th>\n",
       "      <th>Country</th>\n",
       "      <th>TP</th>\n",
       "      <th>TUP</th>\n",
       "      <th>MA</th>\n",
       "      <th>Population</th>\n",
       "    </tr>\n",
       "  </thead>\n",
       "  <tbody>\n",
       "    <tr>\n",
       "      <th>19</th>\n",
       "      <td>Brazil</td>\n",
       "      <td>0.147187</td>\n",
       "      <td>0.847926</td>\n",
       "      <td>0.551992</td>\n",
       "      <td>1</td>\n",
       "    </tr>\n",
       "  </tbody>\n",
       "</table>\n",
       "</div>"
      ],
      "text/plain": [
       "   Country        TP       TUP        MA  Population\n",
       "19  Brazil  0.147187  0.847926  0.551992           1"
      ]
     },
     "metadata": {},
     "output_type": "display_data"
    },
    {
     "data": {
      "text/html": [
       "<div>\n",
       "<style scoped>\n",
       "    .dataframe tbody tr th:only-of-type {\n",
       "        vertical-align: middle;\n",
       "    }\n",
       "\n",
       "    .dataframe tbody tr th {\n",
       "        vertical-align: top;\n",
       "    }\n",
       "\n",
       "    .dataframe thead th {\n",
       "        text-align: right;\n",
       "    }\n",
       "</style>\n",
       "<table border=\"1\" class=\"dataframe\">\n",
       "  <thead>\n",
       "    <tr style=\"text-align: right;\">\n",
       "      <th></th>\n",
       "      <th>Country</th>\n",
       "      <th>CHE</th>\n",
       "      <th>GEE</th>\n",
       "      <th>RDE</th>\n",
       "      <th>Expenditure</th>\n",
       "    </tr>\n",
       "  </thead>\n",
       "  <tbody>\n",
       "    <tr>\n",
       "      <th>17</th>\n",
       "      <td>Brazil</td>\n",
       "      <td>0.521803</td>\n",
       "      <td>0.458251</td>\n",
       "      <td>0.25292</td>\n",
       "      <td>2</td>\n",
       "    </tr>\n",
       "  </tbody>\n",
       "</table>\n",
       "</div>"
      ],
      "text/plain": [
       "   Country       CHE       GEE      RDE  Expenditure\n",
       "17  Brazil  0.521803  0.458251  0.25292            2"
      ]
     },
     "metadata": {},
     "output_type": "display_data"
    },
    {
     "data": {
      "text/html": [
       "<div>\n",
       "<style scoped>\n",
       "    .dataframe tbody tr th:only-of-type {\n",
       "        vertical-align: middle;\n",
       "    }\n",
       "\n",
       "    .dataframe tbody tr th {\n",
       "        vertical-align: top;\n",
       "    }\n",
       "\n",
       "    .dataframe thead th {\n",
       "        text-align: right;\n",
       "    }\n",
       "</style>\n",
       "<table border=\"1\" class=\"dataframe\">\n",
       "  <thead>\n",
       "    <tr style=\"text-align: right;\">\n",
       "      <th></th>\n",
       "      <th>Country</th>\n",
       "      <th>PPP</th>\n",
       "      <th>HB</th>\n",
       "      <th>Health</th>\n",
       "    </tr>\n",
       "  </thead>\n",
       "  <tbody>\n",
       "    <tr>\n",
       "      <th>37</th>\n",
       "      <td>Brazil</td>\n",
       "      <td>0.255751</td>\n",
       "      <td>0.154503</td>\n",
       "      <td>0</td>\n",
       "    </tr>\n",
       "  </tbody>\n",
       "</table>\n",
       "</div>"
      ],
      "text/plain": [
       "   Country       PPP        HB  Health\n",
       "37  Brazil  0.255751  0.154503       0"
      ]
     },
     "metadata": {},
     "output_type": "display_data"
    },
    {
     "data": {
      "text/html": [
       "<div>\n",
       "<style scoped>\n",
       "    .dataframe tbody tr th:only-of-type {\n",
       "        vertical-align: middle;\n",
       "    }\n",
       "\n",
       "    .dataframe tbody tr th {\n",
       "        vertical-align: top;\n",
       "    }\n",
       "\n",
       "    .dataframe thead th {\n",
       "        text-align: right;\n",
       "    }\n",
       "</style>\n",
       "<table border=\"1\" class=\"dataframe\">\n",
       "  <thead>\n",
       "    <tr style=\"text-align: right;\">\n",
       "      <th></th>\n",
       "      <th>Country</th>\n",
       "      <th>CDEP</th>\n",
       "      <th>CDE</th>\n",
       "      <th>FA</th>\n",
       "      <th>FAC</th>\n",
       "      <th>DMC</th>\n",
       "      <th>RLI</th>\n",
       "      <th>Environment</th>\n",
       "    </tr>\n",
       "  </thead>\n",
       "  <tbody>\n",
       "    <tr>\n",
       "      <th>15</th>\n",
       "      <td>Brazil</td>\n",
       "      <td>0.056879</td>\n",
       "      <td>0.150589</td>\n",
       "      <td>0.59976</td>\n",
       "      <td>0.226697</td>\n",
       "      <td>0.319205</td>\n",
       "      <td>0.840719</td>\n",
       "      <td>0</td>\n",
       "    </tr>\n",
       "  </tbody>\n",
       "</table>\n",
       "</div>"
      ],
      "text/plain": [
       "   Country      CDEP       CDE       FA       FAC       DMC       RLI  \\\n",
       "15  Brazil  0.056879  0.150589  0.59976  0.226697  0.319205  0.840719   \n",
       "\n",
       "    Environment  \n",
       "15            0  "
      ]
     },
     "metadata": {},
     "output_type": "display_data"
    }
   ],
   "source": [
    "### Locating and showing the position of Brazil in each dataframe!!! ###\n",
    "economy_bra = df_economy_hdi[df_economy_hdi['Country']=='Brazil']\n",
    "display(economy_bra)\n",
    "inequality_bra = df_inequality_hdi[df_inequality_hdi['Country']=='Brazil']\n",
    "display(inequality_bra)\n",
    "gender_bra = df_gender_hdi[df_gender_hdi['Country']=='Brazil']\n",
    "display(gender_bra)\n",
    "population_bra = df_population_hdi[df_population_hdi['Country']=='Brazil']\n",
    "display(population_bra)\n",
    "expenditure_bra = df_expenditure_hdi[df_expenditure_hdi['Country']=='Brazil']\n",
    "display(expenditure_bra)\n",
    "health_bra = df_health_hdi[df_health_hdi['Country']=='Brazil']\n",
    "display(health_bra)\n",
    "environment_bra = df_environment_hdi[df_environment_hdi['Country']=='Brazil']\n",
    "display(environment_bra)"
   ]
  },
  {
   "cell_type": "code",
   "execution_count": 4,
   "metadata": {},
   "outputs": [],
   "source": [
    "### Saving just the Brazil's index for each case! ###\n",
    "economy = 36\n",
    "inequality = 18\n",
    "gender = 27\n",
    "population = 19\n",
    "expenditure = 17\n",
    "health = 37\n",
    "environment = 15"
   ]
  },
  {
   "cell_type": "code",
   "execution_count": 5,
   "metadata": {},
   "outputs": [],
   "source": [
    "### Changing the index to make the numpy array only with float!! ###\n",
    "df_economy_hdi.set_index('Country',inplace=True)\n",
    "df_inequality_hdi.set_index('Country',inplace=True)\n",
    "df_gender_hdi.set_index('Country',inplace=True)\n",
    "df_population_hdi.set_index('Country',inplace=True)\n",
    "df_expenditure_hdi.set_index('Country',inplace=True)\n",
    "df_health_hdi.set_index('Country',inplace=True)\n",
    "df_environment_hdi.set_index('Country',inplace=True)"
   ]
  },
  {
   "cell_type": "code",
   "execution_count": 6,
   "metadata": {},
   "outputs": [],
   "source": [
    "### Loading the data into a NumPy array ###\n",
    "economy_hdi = np.array(df_economy_hdi)\n",
    "inequality_hdi = np.array(df_inequality_hdi)\n",
    "gender_hdi = np.array(df_gender_hdi)\n",
    "population_hdi = np.array(df_population_hdi)\n",
    "expenditure_hdi = np.array(df_expenditure_hdi)\n",
    "health_hdi = np.array(df_health_hdi)\n",
    "environment_hdi = np.array(df_environment_hdi)\n",
    "\n",
    "#display(economy_hdi)"
   ]
  },
  {
   "cell_type": "code",
   "execution_count": 7,
   "metadata": {},
   "outputs": [
    {
     "data": {
      "text/plain": [
       "array([36, 32, 43, 35, 48], dtype=int64)"
      ]
     },
     "execution_count": 7,
     "metadata": {},
     "output_type": "execute_result"
    }
   ],
   "source": [
    "### Fiting the NearestNeighbors objects ###\n",
    "\n",
    "knn = NearestNeighbors(n_neighbors=5).fit(economy_hdi)\n",
    "distances, indices = knn.kneighbors(economy_hdi)\n",
    "\n",
    "economy = indices[36]\n",
    "economy"
   ]
  },
  {
   "cell_type": "code",
   "execution_count": 8,
   "metadata": {},
   "outputs": [
    {
     "data": {
      "text/plain": [
       "array([18, 17, 37,  8,  3], dtype=int64)"
      ]
     },
     "execution_count": 8,
     "metadata": {},
     "output_type": "execute_result"
    }
   ],
   "source": [
    "inequality_knn = knn.fit(inequality_hdi)\n",
    "distances, indices = knn.kneighbors(inequality_hdi)\n",
    "\n",
    "inequality = indices[18]\n",
    "inequality"
   ]
  },
  {
   "cell_type": "code",
   "execution_count": 9,
   "metadata": {},
   "outputs": [
    {
     "data": {
      "text/plain": [
       "array([27, 17, 33, 26, 24], dtype=int64)"
      ]
     },
     "execution_count": 9,
     "metadata": {},
     "output_type": "execute_result"
    }
   ],
   "source": [
    "gender_knn = knn.fit(gender_hdi)\n",
    "distances, indices = knn.kneighbors(gender_hdi)\n",
    "\n",
    "gender = indices[27]\n",
    "gender"
   ]
  },
  {
   "cell_type": "code",
   "execution_count": 10,
   "metadata": {},
   "outputs": [
    {
     "data": {
      "text/plain": [
       "array([19,  2,  1,  5, 18], dtype=int64)"
      ]
     },
     "execution_count": 10,
     "metadata": {},
     "output_type": "execute_result"
    }
   ],
   "source": [
    "population_knn = knn.fit(population_hdi)\n",
    "distances, indices = knn.kneighbors(population_hdi)\n",
    "\n",
    "population = indices[19]\n",
    "population"
   ]
  },
  {
   "cell_type": "code",
   "execution_count": 11,
   "metadata": {},
   "outputs": [
    {
     "data": {
      "text/plain": [
       "array([17,  5, 19,  4, 14], dtype=int64)"
      ]
     },
     "execution_count": 11,
     "metadata": {},
     "output_type": "execute_result"
    }
   ],
   "source": [
    "expenditure_knn = knn.fit(expenditure_hdi)\n",
    "distances, indices = knn.kneighbors(expenditure_hdi)\n",
    "\n",
    "expenditure = indices[17]\n",
    "expenditure"
   ]
  },
  {
   "cell_type": "code",
   "execution_count": 12,
   "metadata": {},
   "outputs": [
    {
     "data": {
      "text/plain": [
       "array([37, 36,  3, 42, 13], dtype=int64)"
      ]
     },
     "execution_count": 12,
     "metadata": {},
     "output_type": "execute_result"
    }
   ],
   "source": [
    "health_knn = knn.fit(health_hdi)\n",
    "distances, indices = knn.kneighbors(health_hdi)\n",
    "\n",
    "health = indices[37]\n",
    "health"
   ]
  },
  {
   "cell_type": "code",
   "execution_count": 13,
   "metadata": {},
   "outputs": [
    {
     "data": {
      "text/plain": [
       "array([15, 29, 19,  6,  4], dtype=int64)"
      ]
     },
     "execution_count": 13,
     "metadata": {},
     "output_type": "execute_result"
    }
   ],
   "source": [
    "environment_knn = knn.fit(environment_hdi)\n",
    "distances, indices = knn.kneighbors(environment_hdi)\n",
    "\n",
    "environment = indices[15]\n",
    "environment"
   ]
  },
  {
   "cell_type": "code",
   "execution_count": 14,
   "metadata": {},
   "outputs": [],
   "source": [
    "### Making sure that the inde it's not tehe Country, to find the Countrys using the index number!!!\n",
    "df_economy_hdi = pd.read_csv('df_economy_hdi.csv')\n",
    "df_inequality_hdi = pd.read_csv('df_inequality_hdi.csv')\n",
    "df_gender_hdi = pd.read_csv('df_gender_hdi.csv')\n",
    "df_population_hdi = pd.read_csv('df_population_hdi.csv')\n",
    "df_expenditure_hdi = pd.read_csv('df_expenditure_hdi.csv') \n",
    "df_health_hdi = pd.read_csv('df_health_hdi.csv') \n",
    "df_environment_hdi = pd.read_csv('df_environment_hdi.csv') "
   ]
  },
  {
   "cell_type": "code",
   "execution_count": 15,
   "metadata": {},
   "outputs": [
    {
     "data": {
      "text/plain": [
       "36      Brazil\n",
       "32    Thailand\n",
       "43     Algeria\n",
       "35    Colombia\n",
       "48     Tunisia\n",
       "Name: Country, dtype: object"
      ]
     },
     "execution_count": 15,
     "metadata": {},
     "output_type": "execute_result"
    }
   ],
   "source": [
    "df_economy_hdi.loc[economy]['Country']"
   ]
  },
  {
   "cell_type": "code",
   "execution_count": 16,
   "metadata": {},
   "outputs": [
    {
     "data": {
      "text/plain": [
       "18                 Brazil\n",
       "17               Colombia\n",
       "37                 Belize\n",
       "8     Trinidad and Tobago\n",
       "3                  Panama\n",
       "Name: Country, dtype: object"
      ]
     },
     "execution_count": 16,
     "metadata": {},
     "output_type": "execute_result"
    }
   ],
   "source": [
    "df_inequality_hdi.loc[inequality]['Country']"
   ]
  },
  {
   "cell_type": "code",
   "execution_count": 17,
   "metadata": {},
   "outputs": [
    {
     "data": {
      "text/plain": [
       "27                   Brazil\n",
       "17                  Georgia\n",
       "33                  Jamaica\n",
       "26                 Thailand\n",
       "24    Saint Kitts and Nevis\n",
       "Name: Country, dtype: object"
      ]
     },
     "execution_count": 17,
     "metadata": {},
     "output_type": "execute_result"
    }
   ],
   "source": [
    "df_gender_hdi.loc[gender]['Country']"
   ]
  },
  {
   "cell_type": "code",
   "execution_count": 18,
   "metadata": {},
   "outputs": [
    {
     "data": {
      "text/plain": [
       "19                  Brazil\n",
       "2             Saudi Arabia\n",
       "1     United Arab Emirates\n",
       "5                Argentina\n",
       "18                Colombia\n",
       "Name: Country, dtype: object"
      ]
     },
     "execution_count": 18,
     "metadata": {},
     "output_type": "execute_result"
    }
   ],
   "source": [
    "df_population_hdi.loc[population]['Country']"
   ]
  },
  {
   "cell_type": "code",
   "execution_count": 19,
   "metadata": {},
   "outputs": [
    {
     "data": {
      "text/plain": [
       "17            Brazil\n",
       "5        New Zealand\n",
       "19          Kiribati\n",
       "4     United Kingdom\n",
       "14          Portugal\n",
       "Name: Country, dtype: object"
      ]
     },
     "execution_count": 19,
     "metadata": {},
     "output_type": "execute_result"
    }
   ],
   "source": [
    "df_expenditure_hdi.loc[expenditure]['Country']"
   ]
  },
  {
   "cell_type": "code",
   "execution_count": 20,
   "metadata": {},
   "outputs": [
    {
     "data": {
      "text/plain": [
       "37       Brazil\n",
       "36     Colombia\n",
       "3     Singapore\n",
       "42      Lebanon\n",
       "13        Chile\n",
       "Name: Country, dtype: object"
      ]
     },
     "execution_count": 20,
     "metadata": {},
     "output_type": "execute_result"
    }
   ],
   "source": [
    "df_health_hdi.loc[health]['Country']"
   ]
  },
  {
   "cell_type": "code",
   "execution_count": 21,
   "metadata": {},
   "outputs": [
    {
     "data": {
      "text/plain": [
       "15               Brazil\n",
       "29    Equatorial Guinea\n",
       "19               Belize\n",
       "6                Latvia\n",
       "4              Slovenia\n",
       "Name: Country, dtype: object"
      ]
     },
     "execution_count": 21,
     "metadata": {},
     "output_type": "execute_result"
    }
   ],
   "source": [
    "df_environment_hdi.loc[environment]['Country']"
   ]
  },
  {
   "cell_type": "code",
   "execution_count": 22,
   "metadata": {},
   "outputs": [
    {
     "data": {
      "text/html": [
       "<div>\n",
       "<style scoped>\n",
       "    .dataframe tbody tr th:only-of-type {\n",
       "        vertical-align: middle;\n",
       "    }\n",
       "\n",
       "    .dataframe tbody tr th {\n",
       "        vertical-align: top;\n",
       "    }\n",
       "\n",
       "    .dataframe thead th {\n",
       "        text-align: right;\n",
       "    }\n",
       "</style>\n",
       "<table border=\"1\" class=\"dataframe\">\n",
       "  <thead>\n",
       "    <tr style=\"text-align: right;\">\n",
       "      <th></th>\n",
       "      <th>Country</th>\n",
       "      <th>HDI</th>\n",
       "      <th>LE</th>\n",
       "      <th>EYS</th>\n",
       "      <th>MYS</th>\n",
       "      <th>GNI</th>\n",
       "      <th>GDIV</th>\n",
       "      <th>GIIV</th>\n",
       "      <th>IHDI</th>\n",
       "      <th>ILE</th>\n",
       "      <th>...</th>\n",
       "      <th>RPAE</th>\n",
       "      <th>WAFI</th>\n",
       "      <th>CDEP</th>\n",
       "      <th>CDE</th>\n",
       "      <th>FA</th>\n",
       "      <th>FAC</th>\n",
       "      <th>DMC</th>\n",
       "      <th>RLI</th>\n",
       "      <th>SLF</th>\n",
       "      <th>RDE</th>\n",
       "    </tr>\n",
       "  </thead>\n",
       "  <tbody>\n",
       "    <tr>\n",
       "      <th>83</th>\n",
       "      <td>Brazil</td>\n",
       "      <td>0.65897</td>\n",
       "      <td>0.715643</td>\n",
       "      <td>0.614119</td>\n",
       "      <td>0.506661</td>\n",
       "      <td>0.103694</td>\n",
       "      <td>0.922445</td>\n",
       "      <td>0.497403</td>\n",
       "      <td>0.506747</td>\n",
       "      <td>0.220779</td>\n",
       "      <td>...</td>\n",
       "      <td>1.0</td>\n",
       "      <td>0.669624</td>\n",
       "      <td>0.056879</td>\n",
       "      <td>0.150589</td>\n",
       "      <td>0.59976</td>\n",
       "      <td>0.226697</td>\n",
       "      <td>0.319205</td>\n",
       "      <td>0.840719</td>\n",
       "      <td>0.648593</td>\n",
       "      <td>0.25292</td>\n",
       "    </tr>\n",
       "  </tbody>\n",
       "</table>\n",
       "<p>1 rows × 31 columns</p>\n",
       "</div>"
      ],
      "text/plain": [
       "   Country      HDI        LE       EYS       MYS       GNI      GDIV  \\\n",
       "83  Brazil  0.65897  0.715643  0.614119  0.506661  0.103694  0.922445   \n",
       "\n",
       "        GIIV      IHDI       ILE  ...  RPAE      WAFI      CDEP       CDE  \\\n",
       "83  0.497403  0.506747  0.220779  ...   1.0  0.669624  0.056879  0.150589   \n",
       "\n",
       "         FA       FAC       DMC       RLI       SLF      RDE  \n",
       "83  0.59976  0.226697  0.319205  0.840719  0.648593  0.25292  \n",
       "\n",
       "[1 rows x 31 columns]"
      ]
     },
     "metadata": {},
     "output_type": "display_data"
    }
   ],
   "source": [
    "## Using all columns to find the 5 Countrys closer to Brazil ###\n",
    "df_scaler = pd.read_csv('df_scaler.csv')\n",
    "df_country = pd.read_excel('dados_hdi.xlsx')\n",
    "df_country = df_country[['Country']]\n",
    "df_scaler = pd.concat([df_country,df_scaler],axis=1)\n",
    "\n",
    "brazil = df_scaler[df_scaler['Country']=='Brazil']\n",
    "display(brazil)"
   ]
  },
  {
   "cell_type": "code",
   "execution_count": 23,
   "metadata": {},
   "outputs": [],
   "source": [
    "df_scaler.set_index('Country',inplace=True)\n",
    "scaler_hdi = np.array(df_scaler)"
   ]
  },
  {
   "cell_type": "code",
   "execution_count": 24,
   "metadata": {},
   "outputs": [
    {
     "data": {
      "text/plain": [
       "array([ 83,  82,  56, 102, 109], dtype=int64)"
      ]
     },
     "execution_count": 24,
     "metadata": {},
     "output_type": "execute_result"
    }
   ],
   "source": [
    "knn = NearestNeighbors(n_neighbors=5).fit(scaler_hdi)\n",
    "distances, indices = knn.kneighbors(scaler_hdi)\n",
    "\n",
    "knn_brazil = indices[83]\n",
    "knn_brazil"
   ]
  },
  {
   "cell_type": "code",
   "execution_count": 25,
   "metadata": {},
   "outputs": [
    {
     "data": {
      "text/plain": [
       "83       Brazil\n",
       "82     Colombia\n",
       "56       Panama\n",
       "102    Paraguay\n",
       "109      Belize\n",
       "Name: Country, dtype: object"
      ]
     },
     "execution_count": 25,
     "metadata": {},
     "output_type": "execute_result"
    }
   ],
   "source": [
    "df_scaler = pd.read_csv('df_scaler.csv')\n",
    "df_scaler = pd.concat([df_country,df_scaler],axis=1)\n",
    "\n",
    "df_scaler.loc[knn_brazil]['Country']"
   ]
  },
  {
   "cell_type": "code",
   "execution_count": null,
   "metadata": {},
   "outputs": [],
   "source": []
  }
 ],
 "metadata": {
  "kernelspec": {
   "display_name": "Python 3",
   "language": "python",
   "name": "python3"
  },
  "language_info": {
   "codemirror_mode": {
    "name": "ipython",
    "version": 3
   },
   "file_extension": ".py",
   "mimetype": "text/x-python",
   "name": "python",
   "nbconvert_exporter": "python",
   "pygments_lexer": "ipython3",
   "version": "3.8.5"
  }
 },
 "nbformat": 4,
 "nbformat_minor": 4
}
